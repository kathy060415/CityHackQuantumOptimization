{
  "cells": [
    {
      "cell_type": "code",
      "source": [
        "import numpy as np\n",
        "import matplotlib.pyplot as plt\n",
        "from docplex.mp.model import Model\n",
        "\n",
        "from qiskit import BasicAer\n",
        "from qiskit.algorithms import QAOA, NumPyMinimumEigensolver\n",
        "from qiskit_optimization.algorithms import CplexOptimizer, MinimumEigenOptimizer\n",
        "from qiskit_optimization.algorithms.admm_optimizer import ADMMParameters, ADMMOptimizer\n",
        "from qiskit_optimization import QuadraticProgram\n",
        "from qiskit_optimization.translators import from_docplex_mp\n",
        "\n",
        "from qiskit_optimization.converters import InequalityToEquality, IntegerToBinary, LinearEqualityToPenalty"
      ],
      "metadata": {
        "id": "c2Amriq4Xb_1",
        "colab": {
          "base_uri": "https://localhost:8080/"
        },
        "outputId": "0fcfde7a-cd7d-4ff5-89e3-74baca850ef0"
      },
      "execution_count": 11,
      "outputs": [
        {
          "output_type": "stream",
          "name": "stderr",
          "text": [
            "<ipython-input-11-5c6fd6ede52b>:6: DeprecationWarning: ``qiskit.algorithms`` has been migrated to an independent package: https://github.com/qiskit-community/qiskit-algorithms. The ``qiskit.algorithms`` import path is deprecated as of qiskit-terra 0.25.0 and will be removed no earlier than 3 months after the release date. Please run ``pip install qiskit_algorithms`` and use ``import qiskit_algorithms`` instead.\n",
            "  from qiskit.algorithms import QAOA, NumPyMinimumEigensolver\n"
          ]
        }
      ]
    },
    {
      "cell_type": "code",
      "source": [
        "!sudo update-alternatives --install /usr/bin/python3 python3 /usr/bin/python3.8 1\n",
        "!sudo update-alternatives --config python3\n",
        "!python3 --version\n",
        "!sudo apt install python3-pip"
      ],
      "metadata": {
        "colab": {
          "base_uri": "https://localhost:8080/"
        },
        "id": "XaKH3FQOn4ei",
        "outputId": "4ab075e0-2339-48d0-8414-0f2fc18bdf8a"
      },
      "execution_count": 1,
      "outputs": [
        {
          "output_type": "stream",
          "name": "stdout",
          "text": [
            "update-alternatives: error: alternative path /usr/bin/python3.8 doesn't exist\n",
            "update-alternatives: error: no alternatives for python3\n",
            "Python 3.10.12\n",
            "Reading package lists... Done\n",
            "Building dependency tree... Done\n",
            "Reading state information... Done\n",
            "The following additional packages will be installed:\n",
            "  python3-setuptools python3-wheel\n",
            "Suggested packages:\n",
            "  python-setuptools-doc\n",
            "The following NEW packages will be installed:\n",
            "  python3-pip python3-setuptools python3-wheel\n",
            "0 upgraded, 3 newly installed, 0 to remove and 16 not upgraded.\n",
            "Need to get 1,677 kB of archives.\n",
            "After this operation, 8,965 kB of additional disk space will be used.\n",
            "Get:1 http://archive.ubuntu.com/ubuntu jammy-updates/main amd64 python3-setuptools all 59.6.0-1.2ubuntu0.22.04.1 [339 kB]\n",
            "Get:2 http://archive.ubuntu.com/ubuntu jammy-updates/universe amd64 python3-wheel all 0.37.1-2ubuntu0.22.04.1 [32.0 kB]\n",
            "Get:3 http://archive.ubuntu.com/ubuntu jammy-updates/universe amd64 python3-pip all 22.0.2+dfsg-1ubuntu0.3 [1,305 kB]\n",
            "Fetched 1,677 kB in 0s (4,737 kB/s)\n",
            "debconf: unable to initialize frontend: Dialog\n",
            "debconf: (No usable dialog-like program is installed, so the dialog based frontend cannot be used. at /usr/share/perl5/Debconf/FrontEnd/Dialog.pm line 78, <> line 3.)\n",
            "debconf: falling back to frontend: Readline\n",
            "debconf: unable to initialize frontend: Readline\n",
            "debconf: (This frontend requires a controlling tty.)\n",
            "debconf: falling back to frontend: Teletype\n",
            "dpkg-preconfigure: unable to re-open stdin: \n",
            "Selecting previously unselected package python3-setuptools.\n",
            "(Reading database ... 120893 files and directories currently installed.)\n",
            "Preparing to unpack .../python3-setuptools_59.6.0-1.2ubuntu0.22.04.1_all.deb ...\n",
            "Unpacking python3-setuptools (59.6.0-1.2ubuntu0.22.04.1) ...\n",
            "Selecting previously unselected package python3-wheel.\n",
            "Preparing to unpack .../python3-wheel_0.37.1-2ubuntu0.22.04.1_all.deb ...\n",
            "Unpacking python3-wheel (0.37.1-2ubuntu0.22.04.1) ...\n",
            "Selecting previously unselected package python3-pip.\n",
            "Preparing to unpack .../python3-pip_22.0.2+dfsg-1ubuntu0.3_all.deb ...\n",
            "Unpacking python3-pip (22.0.2+dfsg-1ubuntu0.3) ...\n",
            "Setting up python3-setuptools (59.6.0-1.2ubuntu0.22.04.1) ...\n",
            "Setting up python3-wheel (0.37.1-2ubuntu0.22.04.1) ...\n",
            "Setting up python3-pip (22.0.2+dfsg-1ubuntu0.3) ...\n",
            "Processing triggers for man-db (2.10.2-1) ...\n"
          ]
        }
      ]
    },
    {
      "cell_type": "code",
      "source": [
        "import pandas as pd\n",
        "\n",
        "df = pd.read_csv('box_data.csv').set_index('Box Type')\n",
        "\n",
        "cargo_list = []\n",
        "base_area_list = []\n",
        "volume_list = []\n",
        "\n",
        "# Iterate over each row\n",
        "for index, rows in df.iterrows():\n",
        "    # Create list for the current row\n",
        "    my_list =[rows.Length, rows.Width, rows.Height, rows.Base_area, rows.Volume, rows.Weight]\n",
        "    base_area = rows.Base_area\n",
        "    volume = rows.Volume\n",
        "\n",
        "    # append the list to the final list\n",
        "    cargo_list.append(my_list)\n",
        "    base_area_list.append(base_area)\n",
        "    volume_list.append(volume)\n",
        "    volume_list.sort(reverse=True)\n",
        "\n",
        "\n",
        "# print list\n",
        "print(cargo_list)\n",
        "\n",
        "base_area_list.sort()\n",
        "print(base_area_list)\n",
        "df.head()\n",
        "df.dtypes"
      ],
      "metadata": {
        "colab": {
          "base_uri": "https://localhost:8080/"
        },
        "id": "AkWw-YZEWdDK",
        "outputId": "dda42551-7e0a-4ebd-969d-957004eaea72"
      },
      "execution_count": 12,
      "outputs": [
        {
          "output_type": "stream",
          "name": "stdout",
          "text": [
            "[[12, 5, 5, 60, 300, 500], [23, 5, 5, 115, 575, 700], [5, 5, 5, 25, 125, 200]]\n",
            "[25, 60, 115]\n"
          ]
        },
        {
          "output_type": "execute_result",
          "data": {
            "text/plain": [
              "Length       int64\n",
              "Width        int64\n",
              "Height       int64\n",
              "Base_area    int64\n",
              "Volume       int64\n",
              "Weight       int64\n",
              "dtype: object"
            ]
          },
          "metadata": {},
          "execution_count": 12
        }
      ]
    },
    {
      "cell_type": "code",
      "source": [
        "n = 2 # number of bins\n",
        "\n",
        "m = len(cargo_list) # number of items\n",
        "\n",
        "Q =  2000  # max base area\n",
        "\n",
        "wj = np.amax(base_area_list) #  picking the maximum base area\n",
        "\n",
        "container_volume = Q * 200"
      ],
      "metadata": {
        "id": "zsycXrceV_fr"
      },
      "execution_count": 13,
      "outputs": []
    },
    {
      "cell_type": "code",
      "source": [
        "# Construct model using docplex\n",
        "mdl = Model(\"BinPacking\")\n",
        "\n",
        "x = mdl.binary_var_list([f\"x{i}\" for i in range(n)]) # list of variables that represent the bins\n",
        "e =  mdl.binary_var_list([f\"e{i//m},{i%m}\" for i in range(n*m)]) # variables that represent the items on the specific bin\n",
        "\n",
        "objective = mdl.sum([x[i] for i in range(n)])\n",
        "\n",
        "mdl.minimize(objective)"
      ],
      "metadata": {
        "id": "OSDM4MYlcAx7"
      },
      "execution_count": 14,
      "outputs": []
    },
    {
      "cell_type": "code",
      "source": [
        "for j in range(m):\n",
        "    # First set of constraints:\n",
        "    constraint0 = mdl.sum([e[i*m+j] for i in range(n)])\n",
        "    mdl.add_constraint(constraint0 == 1, f\"cons0,{j}\")\n",
        "\n",
        "for i in range(n):\n",
        "    # Second set of constraints: sum of box area < container area\n",
        "    constraint1 = mdl.sum(base_area_list[i] for i in range(m))\n",
        "    mdl.add_constraint(constraint1 <= Q, f\"cons1,{i}\")\n",
        "\n",
        "for i in range(n):\n",
        "\t\tconstraint2 = mdl.sum(volume_list[i] for i in range(m, m-3, -1))\n",
        "\t\tmdl.add_constraint(constraint2 <= container_volume, f\"cons2,{i}\")\n",
        "\n",
        "\n"
      ],
      "metadata": {
        "id": "Uf2C3v0IV_0U",
        "colab": {
          "base_uri": "https://localhost:8080/",
          "height": 391
        },
        "outputId": "2f3a6a4e-24ce-4b53-9f77-21747d292251"
      },
      "execution_count": 15,
      "outputs": [
        {
          "output_type": "error",
          "ename": "IndexError",
          "evalue": "ignored",
          "traceback": [
            "\u001b[0;31m---------------------------------------------------------------------------\u001b[0m",
            "\u001b[0;31mIndexError\u001b[0m                                Traceback (most recent call last)",
            "\u001b[0;32m<ipython-input-15-d98516ffdbb2>\u001b[0m in \u001b[0;36m<cell line: 11>\u001b[0;34m()\u001b[0m\n\u001b[1;32m     10\u001b[0m \u001b[0;34m\u001b[0m\u001b[0m\n\u001b[1;32m     11\u001b[0m \u001b[0;32mfor\u001b[0m \u001b[0mi\u001b[0m \u001b[0;32min\u001b[0m \u001b[0mrange\u001b[0m\u001b[0;34m(\u001b[0m\u001b[0mn\u001b[0m\u001b[0;34m)\u001b[0m\u001b[0;34m:\u001b[0m\u001b[0;34m\u001b[0m\u001b[0;34m\u001b[0m\u001b[0m\n\u001b[0;32m---> 12\u001b[0;31m                 \u001b[0mconstraint2\u001b[0m \u001b[0;34m=\u001b[0m \u001b[0mmdl\u001b[0m\u001b[0;34m.\u001b[0m\u001b[0msum\u001b[0m\u001b[0;34m(\u001b[0m\u001b[0mvolume_list\u001b[0m\u001b[0;34m[\u001b[0m\u001b[0mi\u001b[0m\u001b[0;34m]\u001b[0m \u001b[0;32mfor\u001b[0m \u001b[0mi\u001b[0m \u001b[0;32min\u001b[0m \u001b[0mrange\u001b[0m\u001b[0;34m(\u001b[0m\u001b[0mm\u001b[0m\u001b[0;34m,\u001b[0m \u001b[0mm\u001b[0m\u001b[0;34m-\u001b[0m\u001b[0;36m3\u001b[0m\u001b[0;34m,\u001b[0m \u001b[0;34m-\u001b[0m\u001b[0;36m1\u001b[0m\u001b[0;34m)\u001b[0m\u001b[0;34m)\u001b[0m\u001b[0;34m\u001b[0m\u001b[0;34m\u001b[0m\u001b[0m\n\u001b[0m\u001b[1;32m     13\u001b[0m                 \u001b[0mmdl\u001b[0m\u001b[0;34m.\u001b[0m\u001b[0madd_constraint\u001b[0m\u001b[0;34m(\u001b[0m\u001b[0mconstraint2\u001b[0m \u001b[0;34m<=\u001b[0m \u001b[0mcontainer_volume\u001b[0m\u001b[0;34m,\u001b[0m \u001b[0;34mf\"cons2,{i}\"\u001b[0m\u001b[0;34m)\u001b[0m\u001b[0;34m\u001b[0m\u001b[0;34m\u001b[0m\u001b[0m\n\u001b[1;32m     14\u001b[0m \u001b[0;34m\u001b[0m\u001b[0m\n",
            "\u001b[0;32m/usr/local/lib/python3.10/dist-packages/docplex/mp/model.py\u001b[0m in \u001b[0;36msum\u001b[0;34m(self, args)\u001b[0m\n\u001b[1;32m   3272\u001b[0m         \u001b[0;34m:\u001b[0m\u001b[0;32mreturn\u001b[0m\u001b[0;34m:\u001b[0m \u001b[0mA\u001b[0m \u001b[0mDocplex\u001b[0m \u001b[0mexpression\u001b[0m\u001b[0;34m.\u001b[0m\u001b[0;34m\u001b[0m\u001b[0;34m\u001b[0m\u001b[0m\n\u001b[1;32m   3273\u001b[0m         \"\"\"\n\u001b[0;32m-> 3274\u001b[0;31m         \u001b[0;32mreturn\u001b[0m \u001b[0mself\u001b[0m\u001b[0;34m.\u001b[0m\u001b[0m_aggregator\u001b[0m\u001b[0;34m.\u001b[0m\u001b[0msum\u001b[0m\u001b[0;34m(\u001b[0m\u001b[0margs\u001b[0m\u001b[0;34m)\u001b[0m\u001b[0;34m\u001b[0m\u001b[0;34m\u001b[0m\u001b[0m\n\u001b[0m\u001b[1;32m   3275\u001b[0m \u001b[0;34m\u001b[0m\u001b[0m\n\u001b[1;32m   3276\u001b[0m     \u001b[0;32mdef\u001b[0m \u001b[0msums\u001b[0m\u001b[0;34m(\u001b[0m\u001b[0mself\u001b[0m\u001b[0;34m,\u001b[0m \u001b[0;34m*\u001b[0m\u001b[0margs\u001b[0m\u001b[0;34m)\u001b[0m\u001b[0;34m:\u001b[0m\u001b[0;34m\u001b[0m\u001b[0;34m\u001b[0m\u001b[0m\n",
            "\u001b[0;32m/usr/local/lib/python3.10/dist-packages/docplex/mp/aggregator.py\u001b[0m in \u001b[0;36msum\u001b[0;34m(self, sum_args)\u001b[0m\n\u001b[1;32m    196\u001b[0m     \u001b[0;32mdef\u001b[0m \u001b[0msum\u001b[0m\u001b[0;34m(\u001b[0m\u001b[0mself\u001b[0m\u001b[0;34m,\u001b[0m \u001b[0msum_args\u001b[0m\u001b[0;34m)\u001b[0m\u001b[0;34m:\u001b[0m\u001b[0;34m\u001b[0m\u001b[0;34m\u001b[0m\u001b[0m\n\u001b[1;32m    197\u001b[0m         \u001b[0;32mif\u001b[0m \u001b[0mis_iterator\u001b[0m\u001b[0;34m(\u001b[0m\u001b[0msum_args\u001b[0m\u001b[0;34m)\u001b[0m\u001b[0;34m:\u001b[0m\u001b[0;34m\u001b[0m\u001b[0;34m\u001b[0m\u001b[0m\n\u001b[0;32m--> 198\u001b[0;31m             \u001b[0msum_res\u001b[0m \u001b[0;34m=\u001b[0m \u001b[0mself\u001b[0m\u001b[0;34m.\u001b[0m\u001b[0m_sum_with_iter\u001b[0m\u001b[0;34m(\u001b[0m\u001b[0msum_args\u001b[0m\u001b[0;34m)\u001b[0m\u001b[0;34m\u001b[0m\u001b[0;34m\u001b[0m\u001b[0m\n\u001b[0m\u001b[1;32m    199\u001b[0m         \u001b[0;32melif\u001b[0m \u001b[0mis_numpy_ndarray\u001b[0m\u001b[0;34m(\u001b[0m\u001b[0msum_args\u001b[0m\u001b[0;34m)\u001b[0m\u001b[0;34m:\u001b[0m\u001b[0;34m\u001b[0m\u001b[0;34m\u001b[0m\u001b[0m\n\u001b[1;32m    200\u001b[0m             \u001b[0msum_res\u001b[0m \u001b[0;34m=\u001b[0m \u001b[0mself\u001b[0m\u001b[0;34m.\u001b[0m\u001b[0m_sum_with_iter\u001b[0m\u001b[0;34m(\u001b[0m\u001b[0msum_args\u001b[0m\u001b[0;34m.\u001b[0m\u001b[0mflat\u001b[0m\u001b[0;34m)\u001b[0m\u001b[0;34m\u001b[0m\u001b[0;34m\u001b[0m\u001b[0m\n",
            "\u001b[0;32m/usr/local/lib/python3.10/dist-packages/docplex/mp/aggregator.py\u001b[0m in \u001b[0;36m_sum_with_iter\u001b[0;34m(self, args)\u001b[0m\n\u001b[1;32m    219\u001b[0m         \u001b[0mqcc\u001b[0m \u001b[0;34m=\u001b[0m \u001b[0;32mNone\u001b[0m\u001b[0;34m\u001b[0m\u001b[0;34m\u001b[0m\u001b[0m\n\u001b[1;32m    220\u001b[0m         \u001b[0mnumber_validation_fn\u001b[0m \u001b[0;34m=\u001b[0m \u001b[0mchecker\u001b[0m\u001b[0;34m.\u001b[0m\u001b[0mget_number_validation_fn\u001b[0m\u001b[0;34m(\u001b[0m\u001b[0;34m)\u001b[0m\u001b[0;34m\u001b[0m\u001b[0;34m\u001b[0m\u001b[0m\n\u001b[0;32m--> 221\u001b[0;31m         \u001b[0;32mfor\u001b[0m \u001b[0mitem\u001b[0m \u001b[0;32min\u001b[0m \u001b[0margs\u001b[0m\u001b[0;34m:\u001b[0m\u001b[0;34m\u001b[0m\u001b[0;34m\u001b[0m\u001b[0m\n\u001b[0m\u001b[1;32m    222\u001b[0m             \u001b[0;32mif\u001b[0m \u001b[0misinstance\u001b[0m\u001b[0;34m(\u001b[0m\u001b[0mitem\u001b[0m\u001b[0;34m,\u001b[0m \u001b[0mLinearOperand\u001b[0m\u001b[0;34m)\u001b[0m\u001b[0;34m:\u001b[0m\u001b[0;34m\u001b[0m\u001b[0;34m\u001b[0m\u001b[0m\n\u001b[1;32m    223\u001b[0m                 \u001b[0;32mfor\u001b[0m \u001b[0mlv\u001b[0m\u001b[0;34m,\u001b[0m \u001b[0mlk\u001b[0m \u001b[0;32min\u001b[0m \u001b[0mitem\u001b[0m\u001b[0;34m.\u001b[0m\u001b[0miter_terms\u001b[0m\u001b[0;34m(\u001b[0m\u001b[0;34m)\u001b[0m\u001b[0;34m:\u001b[0m\u001b[0;34m\u001b[0m\u001b[0;34m\u001b[0m\u001b[0m\n",
            "\u001b[0;32m<ipython-input-15-d98516ffdbb2>\u001b[0m in \u001b[0;36m<genexpr>\u001b[0;34m(.0)\u001b[0m\n\u001b[1;32m     10\u001b[0m \u001b[0;34m\u001b[0m\u001b[0m\n\u001b[1;32m     11\u001b[0m \u001b[0;32mfor\u001b[0m \u001b[0mi\u001b[0m \u001b[0;32min\u001b[0m \u001b[0mrange\u001b[0m\u001b[0;34m(\u001b[0m\u001b[0mn\u001b[0m\u001b[0;34m)\u001b[0m\u001b[0;34m:\u001b[0m\u001b[0;34m\u001b[0m\u001b[0;34m\u001b[0m\u001b[0m\n\u001b[0;32m---> 12\u001b[0;31m                 \u001b[0mconstraint2\u001b[0m \u001b[0;34m=\u001b[0m \u001b[0mmdl\u001b[0m\u001b[0;34m.\u001b[0m\u001b[0msum\u001b[0m\u001b[0;34m(\u001b[0m\u001b[0mvolume_list\u001b[0m\u001b[0;34m[\u001b[0m\u001b[0mi\u001b[0m\u001b[0;34m]\u001b[0m \u001b[0;32mfor\u001b[0m \u001b[0mi\u001b[0m \u001b[0;32min\u001b[0m \u001b[0mrange\u001b[0m\u001b[0;34m(\u001b[0m\u001b[0mm\u001b[0m\u001b[0;34m,\u001b[0m \u001b[0mm\u001b[0m\u001b[0;34m-\u001b[0m\u001b[0;36m3\u001b[0m\u001b[0;34m,\u001b[0m \u001b[0;34m-\u001b[0m\u001b[0;36m1\u001b[0m\u001b[0;34m)\u001b[0m\u001b[0;34m)\u001b[0m\u001b[0;34m\u001b[0m\u001b[0;34m\u001b[0m\u001b[0m\n\u001b[0m\u001b[1;32m     13\u001b[0m                 \u001b[0mmdl\u001b[0m\u001b[0;34m.\u001b[0m\u001b[0madd_constraint\u001b[0m\u001b[0;34m(\u001b[0m\u001b[0mconstraint2\u001b[0m \u001b[0;34m<=\u001b[0m \u001b[0mcontainer_volume\u001b[0m\u001b[0;34m,\u001b[0m \u001b[0;34mf\"cons2,{i}\"\u001b[0m\u001b[0;34m)\u001b[0m\u001b[0;34m\u001b[0m\u001b[0;34m\u001b[0m\u001b[0m\n\u001b[1;32m     14\u001b[0m \u001b[0;34m\u001b[0m\u001b[0m\n",
            "\u001b[0;31mIndexError\u001b[0m: list index out of range"
          ]
        }
      ]
    },
    {
      "cell_type": "code",
      "source": [
        "# convert from DOcplex model to Qiskit Quadratic program\n",
        "# qp = QuadraticProgram()\n",
        "qp = from_docplex_mp(mdl)\n",
        "print(qp.export_as_lp_string())\n",
        "\n",
        "# Solving Quadratic Program using CPLEX\n",
        "qp = from_docplex_mp(mdl)\n",
        "\n",
        "cplex = CplexOptimizer()\n",
        "result = cplex.solve(qp)\n",
        "print(result)\n",
        "print(qp.prettyprint())\n",
        "# plot_bins(result, wj, n, m)\n"
      ],
      "metadata": {
        "id": "0D19s_sXdT7z",
        "outputId": "41eb422c-4db3-4019-c1a7-06a657d31e7b",
        "colab": {
          "base_uri": "https://localhost:8080/"
        }
      },
      "execution_count": 16,
      "outputs": [
        {
          "output_type": "stream",
          "name": "stderr",
          "text": [
            "<ipython-input-16-609b72b94edb>:3: UserWarning: Trivial constraint: cons1,0: 200 <= 2000\n",
            "  qp = from_docplex_mp(mdl)\n",
            "<ipython-input-16-609b72b94edb>:3: UserWarning: Trivial constraint: cons1,1: 200 <= 2000\n",
            "  qp = from_docplex_mp(mdl)\n"
          ]
        },
        {
          "output_type": "stream",
          "name": "stdout",
          "text": [
            "\\ This file has been generated by DOcplex\n",
            "\\ ENCODING=ISO-8859-1\n",
            "\\Problem name: BinPacking\n",
            "\n",
            "Minimize\n",
            " obj: x0 + x1\n",
            "Subject To\n",
            " cons0,0: _e0,0 + _e1,0 = 1\n",
            " cons0,1: _e0,1 + _e1,1 = 1\n",
            " cons0,2: _e0,2 + _e1,2 = 1\n",
            " cons1,0: <= 1800\n",
            " cons1,1: <= 1800\n",
            "\n",
            "Bounds\n",
            " 0 <= x0 <= 1\n",
            " 0 <= x1 <= 1\n",
            " 0 <= _e0,0 <= 1\n",
            " 0 <= _e0,1 <= 1\n",
            " 0 <= _e0,2 <= 1\n",
            " 0 <= _e1,0 <= 1\n",
            " 0 <= _e1,1 <= 1\n",
            " 0 <= _e1,2 <= 1\n",
            "\n",
            "Binaries\n",
            " x0 x1 _e0,0 _e0,1 _e0,2 _e1,0 _e1,1 _e1,2\n",
            "End\n",
            "\n"
          ]
        },
        {
          "output_type": "stream",
          "name": "stderr",
          "text": [
            "<ipython-input-16-609b72b94edb>:7: UserWarning: Trivial constraint: cons1,0: 200 <= 2000\n",
            "  qp = from_docplex_mp(mdl)\n",
            "<ipython-input-16-609b72b94edb>:7: UserWarning: Trivial constraint: cons1,1: 200 <= 2000\n",
            "  qp = from_docplex_mp(mdl)\n"
          ]
        },
        {
          "output_type": "stream",
          "name": "stdout",
          "text": [
            "fval=0.0, x0=0.0, x1=0.0, e0,0=1.0, e0,1=1.0, e0,2=1.0, e1,0=0.0, e1,1=0.0, e1,2=0.0, status=SUCCESS\n",
            "Problem name: BinPacking\n",
            "\n",
            "Minimize\n",
            "  x0 + x1\n",
            "\n",
            "Subject to\n",
            "  Linear constraints (5)\n",
            "    e0,0 + e1,0 == 1  'cons0,0'\n",
            "    e0,1 + e1,1 == 1  'cons0,1'\n",
            "    e0,2 + e1,2 == 1  'cons0,2'\n",
            "    0 <= 1800  'cons1,0'\n",
            "    0 <= 1800  'cons1,1'\n",
            "\n",
            "  Binary variables (8)\n",
            "    x0 x1 e0,0 e0,1 e0,2 e1,0 e1,1 e1,2\n",
            "\n"
          ]
        }
      ]
    },
    {
      "cell_type": "code",
      "source": [
        "ineq2eq = InequalityToEquality()\n",
        "qp_eq = ineq2eq.convert(qp)\n",
        "print(qp_eq.export_as_lp_string())\n",
        "print(f\"The number of variables is {qp_eq.get_num_vars()}\")"
      ],
      "metadata": {
        "id": "uOw86V1kkQNM",
        "colab": {
          "base_uri": "https://localhost:8080/"
        },
        "outputId": "e736a9d6-0bcc-427e-e19d-548616202064"
      },
      "execution_count": 17,
      "outputs": [
        {
          "output_type": "stream",
          "name": "stdout",
          "text": [
            "\\ This file has been generated by DOcplex\n",
            "\\ ENCODING=ISO-8859-1\n",
            "\\Problem name: BinPacking\n",
            "\n",
            "Minimize\n",
            " obj: x0 + x1\n",
            "Subject To\n",
            " cons0,0: _e0,0 + _e1,0 = 1\n",
            " cons0,1: _e0,1 + _e1,1 = 1\n",
            " cons0,2: _e0,2 + _e1,2 = 1\n",
            " cons1,0: cons1,0@int_slack = 1800\n",
            " cons1,1: cons1,1@int_slack = 1800\n",
            "\n",
            "Bounds\n",
            " 0 <= x0 <= 1\n",
            " 0 <= x1 <= 1\n",
            " 0 <= _e0,0 <= 1\n",
            " 0 <= _e0,1 <= 1\n",
            " 0 <= _e0,2 <= 1\n",
            " 0 <= _e1,0 <= 1\n",
            " 0 <= _e1,1 <= 1\n",
            " 0 <= _e1,2 <= 1\n",
            "       cons1,0@int_slack <= 1800\n",
            "       cons1,1@int_slack <= 1800\n",
            "\n",
            "Binaries\n",
            " x0 x1 _e0,0 _e0,1 _e0,2 _e1,0 _e1,1 _e1,2\n",
            "\n",
            "Generals\n",
            " cons1,0@int_slack cons1,1@int_slack\n",
            "End\n",
            "\n",
            "The number of variables is 10\n"
          ]
        }
      ]
    },
    {
      "cell_type": "code",
      "source": [
        "int2bin = IntegerToBinary()\n",
        "qp_eq_bin = int2bin.convert(qp_eq)\n",
        "print(qp_eq_bin.export_as_lp_string())\n",
        "print(f\"The number of variables is {qp_eq_bin.get_num_vars()}\")"
      ],
      "metadata": {
        "colab": {
          "base_uri": "https://localhost:8080/"
        },
        "id": "SeUOn90G39tO",
        "outputId": "52478395-285b-43e0-e2e3-e1d79d687e25"
      },
      "execution_count": 18,
      "outputs": [
        {
          "output_type": "stream",
          "name": "stdout",
          "text": [
            "\\ This file has been generated by DOcplex\n",
            "\\ ENCODING=ISO-8859-1\n",
            "\\Problem name: BinPacking\n",
            "\n",
            "Minimize\n",
            " obj: x0 + x1\n",
            "Subject To\n",
            " cons0,0: _e0,0 + _e1,0 = 1\n",
            " cons0,1: _e0,1 + _e1,1 = 1\n",
            " cons0,2: _e0,2 + _e1,2 = 1\n",
            " cons1,0: cons1,0@int_slack@0 + 2 cons1,0@int_slack@1 + 4 cons1,0@int_slack@2\n",
            "          + 8 cons1,0@int_slack@3 + 16 cons1,0@int_slack@4\n",
            "          + 32 cons1,0@int_slack@5 + 64 cons1,0@int_slack@6\n",
            "          + 128 cons1,0@int_slack@7 + 256 cons1,0@int_slack@8\n",
            "          + 512 cons1,0@int_slack@9 + 777 cons1,0@int_slack@10 = 1800\n",
            " cons1,1: cons1,1@int_slack@0 + 2 cons1,1@int_slack@1 + 4 cons1,1@int_slack@2\n",
            "          + 8 cons1,1@int_slack@3 + 16 cons1,1@int_slack@4\n",
            "          + 32 cons1,1@int_slack@5 + 64 cons1,1@int_slack@6\n",
            "          + 128 cons1,1@int_slack@7 + 256 cons1,1@int_slack@8\n",
            "          + 512 cons1,1@int_slack@9 + 777 cons1,1@int_slack@10 = 1800\n",
            "\n",
            "Bounds\n",
            " 0 <= x0 <= 1\n",
            " 0 <= x1 <= 1\n",
            " 0 <= _e0,0 <= 1\n",
            " 0 <= _e0,1 <= 1\n",
            " 0 <= _e0,2 <= 1\n",
            " 0 <= _e1,0 <= 1\n",
            " 0 <= _e1,1 <= 1\n",
            " 0 <= _e1,2 <= 1\n",
            " 0 <= cons1,0@int_slack@0 <= 1\n",
            " 0 <= cons1,0@int_slack@1 <= 1\n",
            " 0 <= cons1,0@int_slack@2 <= 1\n",
            " 0 <= cons1,0@int_slack@3 <= 1\n",
            " 0 <= cons1,0@int_slack@4 <= 1\n",
            " 0 <= cons1,0@int_slack@5 <= 1\n",
            " 0 <= cons1,0@int_slack@6 <= 1\n",
            " 0 <= cons1,0@int_slack@7 <= 1\n",
            " 0 <= cons1,0@int_slack@8 <= 1\n",
            " 0 <= cons1,0@int_slack@9 <= 1\n",
            " 0 <= cons1,0@int_slack@10 <= 1\n",
            " 0 <= cons1,1@int_slack@0 <= 1\n",
            " 0 <= cons1,1@int_slack@1 <= 1\n",
            " 0 <= cons1,1@int_slack@2 <= 1\n",
            " 0 <= cons1,1@int_slack@3 <= 1\n",
            " 0 <= cons1,1@int_slack@4 <= 1\n",
            " 0 <= cons1,1@int_slack@5 <= 1\n",
            " 0 <= cons1,1@int_slack@6 <= 1\n",
            " 0 <= cons1,1@int_slack@7 <= 1\n",
            " 0 <= cons1,1@int_slack@8 <= 1\n",
            " 0 <= cons1,1@int_slack@9 <= 1\n",
            " 0 <= cons1,1@int_slack@10 <= 1\n",
            "\n",
            "Binaries\n",
            " x0 x1 _e0,0 _e0,1 _e0,2 _e1,0 _e1,1 _e1,2 cons1,0@int_slack@0\n",
            " cons1,0@int_slack@1 cons1,0@int_slack@2 cons1,0@int_slack@3 cons1,0@int_slack@4\n",
            " cons1,0@int_slack@5 cons1,0@int_slack@6 cons1,0@int_slack@7 cons1,0@int_slack@8\n",
            " cons1,0@int_slack@9 cons1,0@int_slack@10 cons1,1@int_slack@0\n",
            " cons1,1@int_slack@1 cons1,1@int_slack@2 cons1,1@int_slack@3 cons1,1@int_slack@4\n",
            " cons1,1@int_slack@5 cons1,1@int_slack@6 cons1,1@int_slack@7 cons1,1@int_slack@8\n",
            " cons1,1@int_slack@9 cons1,1@int_slack@10\n",
            "End\n",
            "\n",
            "The number of variables is 30\n"
          ]
        }
      ]
    },
    {
      "cell_type": "code",
      "source": [
        "lineq2penalty = LinearEqualityToPenalty()\n",
        "qubo = lineq2penalty.convert(qp_eq_bin)\n",
        "print(f\"The number of variables is {qp_eq_bin.get_num_vars()}\")\n",
        "print(qubo.export_as_lp_string())"
      ],
      "metadata": {
        "colab": {
          "base_uri": "https://localhost:8080/"
        },
        "id": "nZbI1Uz24UcE",
        "outputId": "3f82f015-6661-4995-e9a3-bd4f090b3539"
      },
      "execution_count": 19,
      "outputs": [
        {
          "output_type": "stream",
          "name": "stdout",
          "text": [
            "The number of variables is 30\n",
            "\\ This file has been generated by DOcplex\n",
            "\\ ENCODING=ISO-8859-1\n",
            "\\Problem name: BinPacking\n",
            "\n",
            "Minimize\n",
            " obj: x0 + x1 - 6 _e0,0 - 6 _e0,1 - 6 _e0,2 - 6 _e1,0 - 6 _e1,1 - 6 _e1,2\n",
            "      - 10800 cons1,0@int_slack@0 - 21600 cons1,0@int_slack@1\n",
            "      - 43200 cons1,0@int_slack@2 - 86400 cons1,0@int_slack@3\n",
            "      - 172800 cons1,0@int_slack@4 - 345600 cons1,0@int_slack@5\n",
            "      - 691200 cons1,0@int_slack@6 - 1382400 cons1,0@int_slack@7\n",
            "      - 2764800 cons1,0@int_slack@8 - 5529600 cons1,0@int_slack@9\n",
            "      - 8391600 cons1,0@int_slack@10 - 10800 cons1,1@int_slack@0\n",
            "      - 21600 cons1,1@int_slack@1 - 43200 cons1,1@int_slack@2\n",
            "      - 86400 cons1,1@int_slack@3 - 172800 cons1,1@int_slack@4\n",
            "      - 345600 cons1,1@int_slack@5 - 691200 cons1,1@int_slack@6\n",
            "      - 1382400 cons1,1@int_slack@7 - 2764800 cons1,1@int_slack@8\n",
            "      - 5529600 cons1,1@int_slack@9 - 8391600 cons1,1@int_slack@10 + [ 6 _e0,0^2\n",
            "      + 12 _e0,0*_e1,0 + 6 _e0,1^2 + 12 _e0,1*_e1,1 + 6 _e0,2^2 + 12 _e0,2*_e1,2\n",
            "      + 6 _e1,0^2 + 6 _e1,1^2 + 6 _e1,2^2 + 6 cons1,0@int_slack@0^2\n",
            "      + 24 cons1,0@int_slack@0*cons1,0@int_slack@1\n",
            "      + 48 cons1,0@int_slack@0*cons1,0@int_slack@2\n",
            "      + 96 cons1,0@int_slack@0*cons1,0@int_slack@3\n",
            "      + 192 cons1,0@int_slack@0*cons1,0@int_slack@4\n",
            "      + 384 cons1,0@int_slack@0*cons1,0@int_slack@5\n",
            "      + 768 cons1,0@int_slack@0*cons1,0@int_slack@6\n",
            "      + 1536 cons1,0@int_slack@0*cons1,0@int_slack@7\n",
            "      + 3072 cons1,0@int_slack@0*cons1,0@int_slack@8\n",
            "      + 6144 cons1,0@int_slack@0*cons1,0@int_slack@9\n",
            "      + 9324 cons1,0@int_slack@0*cons1,0@int_slack@10 + 24 cons1,0@int_slack@1^2\n",
            "      + 96 cons1,0@int_slack@1*cons1,0@int_slack@2\n",
            "      + 192 cons1,0@int_slack@1*cons1,0@int_slack@3\n",
            "      + 384 cons1,0@int_slack@1*cons1,0@int_slack@4\n",
            "      + 768 cons1,0@int_slack@1*cons1,0@int_slack@5\n",
            "      + 1536 cons1,0@int_slack@1*cons1,0@int_slack@6\n",
            "      + 3072 cons1,0@int_slack@1*cons1,0@int_slack@7\n",
            "      + 6144 cons1,0@int_slack@1*cons1,0@int_slack@8\n",
            "      + 12288 cons1,0@int_slack@1*cons1,0@int_slack@9\n",
            "      + 18648 cons1,0@int_slack@1*cons1,0@int_slack@10\n",
            "      + 96 cons1,0@int_slack@2^2 + 384 cons1,0@int_slack@2*cons1,0@int_slack@3\n",
            "      + 768 cons1,0@int_slack@2*cons1,0@int_slack@4\n",
            "      + 1536 cons1,0@int_slack@2*cons1,0@int_slack@5\n",
            "      + 3072 cons1,0@int_slack@2*cons1,0@int_slack@6\n",
            "      + 6144 cons1,0@int_slack@2*cons1,0@int_slack@7\n",
            "      + 12288 cons1,0@int_slack@2*cons1,0@int_slack@8\n",
            "      + 24576 cons1,0@int_slack@2*cons1,0@int_slack@9\n",
            "      + 37296 cons1,0@int_slack@2*cons1,0@int_slack@10\n",
            "      + 384 cons1,0@int_slack@3^2 + 1536 cons1,0@int_slack@3*cons1,0@int_slack@4\n",
            "      + 3072 cons1,0@int_slack@3*cons1,0@int_slack@5\n",
            "      + 6144 cons1,0@int_slack@3*cons1,0@int_slack@6\n",
            "      + 12288 cons1,0@int_slack@3*cons1,0@int_slack@7\n",
            "      + 24576 cons1,0@int_slack@3*cons1,0@int_slack@8\n",
            "      + 49152 cons1,0@int_slack@3*cons1,0@int_slack@9\n",
            "      + 74592 cons1,0@int_slack@3*cons1,0@int_slack@10\n",
            "      + 1536 cons1,0@int_slack@4^2\n",
            "      + 6144 cons1,0@int_slack@4*cons1,0@int_slack@5\n",
            "      + 12288 cons1,0@int_slack@4*cons1,0@int_slack@6\n",
            "      + 24576 cons1,0@int_slack@4*cons1,0@int_slack@7\n",
            "      + 49152 cons1,0@int_slack@4*cons1,0@int_slack@8\n",
            "      + 98304 cons1,0@int_slack@4*cons1,0@int_slack@9\n",
            "      + 149184 cons1,0@int_slack@4*cons1,0@int_slack@10\n",
            "      + 6144 cons1,0@int_slack@5^2\n",
            "      + 24576 cons1,0@int_slack@5*cons1,0@int_slack@6\n",
            "      + 49152 cons1,0@int_slack@5*cons1,0@int_slack@7\n",
            "      + 98304 cons1,0@int_slack@5*cons1,0@int_slack@8\n",
            "      + 196608 cons1,0@int_slack@5*cons1,0@int_slack@9\n",
            "      + 298368 cons1,0@int_slack@5*cons1,0@int_slack@10\n",
            "      + 24576 cons1,0@int_slack@6^2\n",
            "      + 98304 cons1,0@int_slack@6*cons1,0@int_slack@7\n",
            "      + 196608 cons1,0@int_slack@6*cons1,0@int_slack@8\n",
            "      + 393216 cons1,0@int_slack@6*cons1,0@int_slack@9\n",
            "      + 596736 cons1,0@int_slack@6*cons1,0@int_slack@10\n",
            "      + 98304 cons1,0@int_slack@7^2\n",
            "      + 393216 cons1,0@int_slack@7*cons1,0@int_slack@8\n",
            "      + 786432 cons1,0@int_slack@7*cons1,0@int_slack@9\n",
            "      + 1193472 cons1,0@int_slack@7*cons1,0@int_slack@10\n",
            "      + 393216 cons1,0@int_slack@8^2\n",
            "      + 1572864 cons1,0@int_slack@8*cons1,0@int_slack@9\n",
            "      + 2386944 cons1,0@int_slack@8*cons1,0@int_slack@10\n",
            "      + 1572864 cons1,0@int_slack@9^2\n",
            "      + 4773888 cons1,0@int_slack@9*cons1,0@int_slack@10\n",
            "      + 3622374 cons1,0@int_slack@10^2 + 6 cons1,1@int_slack@0^2\n",
            "      + 24 cons1,1@int_slack@0*cons1,1@int_slack@1\n",
            "      + 48 cons1,1@int_slack@0*cons1,1@int_slack@2\n",
            "      + 96 cons1,1@int_slack@0*cons1,1@int_slack@3\n",
            "      + 192 cons1,1@int_slack@0*cons1,1@int_slack@4\n",
            "      + 384 cons1,1@int_slack@0*cons1,1@int_slack@5\n",
            "      + 768 cons1,1@int_slack@0*cons1,1@int_slack@6\n",
            "      + 1536 cons1,1@int_slack@0*cons1,1@int_slack@7\n",
            "      + 3072 cons1,1@int_slack@0*cons1,1@int_slack@8\n",
            "      + 6144 cons1,1@int_slack@0*cons1,1@int_slack@9\n",
            "      + 9324 cons1,1@int_slack@0*cons1,1@int_slack@10 + 24 cons1,1@int_slack@1^2\n",
            "      + 96 cons1,1@int_slack@1*cons1,1@int_slack@2\n",
            "      + 192 cons1,1@int_slack@1*cons1,1@int_slack@3\n",
            "      + 384 cons1,1@int_slack@1*cons1,1@int_slack@4\n",
            "      + 768 cons1,1@int_slack@1*cons1,1@int_slack@5\n",
            "      + 1536 cons1,1@int_slack@1*cons1,1@int_slack@6\n",
            "      + 3072 cons1,1@int_slack@1*cons1,1@int_slack@7\n",
            "      + 6144 cons1,1@int_slack@1*cons1,1@int_slack@8\n",
            "      + 12288 cons1,1@int_slack@1*cons1,1@int_slack@9\n",
            "      + 18648 cons1,1@int_slack@1*cons1,1@int_slack@10\n",
            "      + 96 cons1,1@int_slack@2^2 + 384 cons1,1@int_slack@2*cons1,1@int_slack@3\n",
            "      + 768 cons1,1@int_slack@2*cons1,1@int_slack@4\n",
            "      + 1536 cons1,1@int_slack@2*cons1,1@int_slack@5\n",
            "      + 3072 cons1,1@int_slack@2*cons1,1@int_slack@6\n",
            "      + 6144 cons1,1@int_slack@2*cons1,1@int_slack@7\n",
            "      + 12288 cons1,1@int_slack@2*cons1,1@int_slack@8\n",
            "      + 24576 cons1,1@int_slack@2*cons1,1@int_slack@9\n",
            "      + 37296 cons1,1@int_slack@2*cons1,1@int_slack@10\n",
            "      + 384 cons1,1@int_slack@3^2 + 1536 cons1,1@int_slack@3*cons1,1@int_slack@4\n",
            "      + 3072 cons1,1@int_slack@3*cons1,1@int_slack@5\n",
            "      + 6144 cons1,1@int_slack@3*cons1,1@int_slack@6\n",
            "      + 12288 cons1,1@int_slack@3*cons1,1@int_slack@7\n",
            "      + 24576 cons1,1@int_slack@3*cons1,1@int_slack@8\n",
            "      + 49152 cons1,1@int_slack@3*cons1,1@int_slack@9\n",
            "      + 74592 cons1,1@int_slack@3*cons1,1@int_slack@10\n",
            "      + 1536 cons1,1@int_slack@4^2\n",
            "      + 6144 cons1,1@int_slack@4*cons1,1@int_slack@5\n",
            "      + 12288 cons1,1@int_slack@4*cons1,1@int_slack@6\n",
            "      + 24576 cons1,1@int_slack@4*cons1,1@int_slack@7\n",
            "      + 49152 cons1,1@int_slack@4*cons1,1@int_slack@8\n",
            "      + 98304 cons1,1@int_slack@4*cons1,1@int_slack@9\n",
            "      + 149184 cons1,1@int_slack@4*cons1,1@int_slack@10\n",
            "      + 6144 cons1,1@int_slack@5^2\n",
            "      + 24576 cons1,1@int_slack@5*cons1,1@int_slack@6\n",
            "      + 49152 cons1,1@int_slack@5*cons1,1@int_slack@7\n",
            "      + 98304 cons1,1@int_slack@5*cons1,1@int_slack@8\n",
            "      + 196608 cons1,1@int_slack@5*cons1,1@int_slack@9\n",
            "      + 298368 cons1,1@int_slack@5*cons1,1@int_slack@10\n",
            "      + 24576 cons1,1@int_slack@6^2\n",
            "      + 98304 cons1,1@int_slack@6*cons1,1@int_slack@7\n",
            "      + 196608 cons1,1@int_slack@6*cons1,1@int_slack@8\n",
            "      + 393216 cons1,1@int_slack@6*cons1,1@int_slack@9\n",
            "      + 596736 cons1,1@int_slack@6*cons1,1@int_slack@10\n",
            "      + 98304 cons1,1@int_slack@7^2\n",
            "      + 393216 cons1,1@int_slack@7*cons1,1@int_slack@8\n",
            "      + 786432 cons1,1@int_slack@7*cons1,1@int_slack@9\n",
            "      + 1193472 cons1,1@int_slack@7*cons1,1@int_slack@10\n",
            "      + 393216 cons1,1@int_slack@8^2\n",
            "      + 1572864 cons1,1@int_slack@8*cons1,1@int_slack@9\n",
            "      + 2386944 cons1,1@int_slack@8*cons1,1@int_slack@10\n",
            "      + 1572864 cons1,1@int_slack@9^2\n",
            "      + 4773888 cons1,1@int_slack@9*cons1,1@int_slack@10\n",
            "      + 3622374 cons1,1@int_slack@10^2 ]/2 + 19440009\n",
            "Subject To\n",
            "\n",
            "Bounds\n",
            " 0 <= x0 <= 1\n",
            " 0 <= x1 <= 1\n",
            " 0 <= _e0,0 <= 1\n",
            " 0 <= _e0,1 <= 1\n",
            " 0 <= _e0,2 <= 1\n",
            " 0 <= _e1,0 <= 1\n",
            " 0 <= _e1,1 <= 1\n",
            " 0 <= _e1,2 <= 1\n",
            " 0 <= cons1,0@int_slack@0 <= 1\n",
            " 0 <= cons1,0@int_slack@1 <= 1\n",
            " 0 <= cons1,0@int_slack@2 <= 1\n",
            " 0 <= cons1,0@int_slack@3 <= 1\n",
            " 0 <= cons1,0@int_slack@4 <= 1\n",
            " 0 <= cons1,0@int_slack@5 <= 1\n",
            " 0 <= cons1,0@int_slack@6 <= 1\n",
            " 0 <= cons1,0@int_slack@7 <= 1\n",
            " 0 <= cons1,0@int_slack@8 <= 1\n",
            " 0 <= cons1,0@int_slack@9 <= 1\n",
            " 0 <= cons1,0@int_slack@10 <= 1\n",
            " 0 <= cons1,1@int_slack@0 <= 1\n",
            " 0 <= cons1,1@int_slack@1 <= 1\n",
            " 0 <= cons1,1@int_slack@2 <= 1\n",
            " 0 <= cons1,1@int_slack@3 <= 1\n",
            " 0 <= cons1,1@int_slack@4 <= 1\n",
            " 0 <= cons1,1@int_slack@5 <= 1\n",
            " 0 <= cons1,1@int_slack@6 <= 1\n",
            " 0 <= cons1,1@int_slack@7 <= 1\n",
            " 0 <= cons1,1@int_slack@8 <= 1\n",
            " 0 <= cons1,1@int_slack@9 <= 1\n",
            " 0 <= cons1,1@int_slack@10 <= 1\n",
            "\n",
            "Binaries\n",
            " x0 x1 _e0,0 _e0,1 _e0,2 _e1,0 _e1,1 _e1,2 cons1,0@int_slack@0\n",
            " cons1,0@int_slack@1 cons1,0@int_slack@2 cons1,0@int_slack@3 cons1,0@int_slack@4\n",
            " cons1,0@int_slack@5 cons1,0@int_slack@6 cons1,0@int_slack@7 cons1,0@int_slack@8\n",
            " cons1,0@int_slack@9 cons1,0@int_slack@10 cons1,1@int_slack@0\n",
            " cons1,1@int_slack@1 cons1,1@int_slack@2 cons1,1@int_slack@3 cons1,1@int_slack@4\n",
            " cons1,1@int_slack@5 cons1,1@int_slack@6 cons1,1@int_slack@7 cons1,1@int_slack@8\n",
            " cons1,1@int_slack@9 cons1,1@int_slack@10\n",
            "End\n",
            "\n"
          ]
        }
      ]
    },
    {
      "cell_type": "code",
      "source": [
        "result = cplex.solve(qubo)\n",
        "print(result)"
      ],
      "metadata": {
        "colab": {
          "base_uri": "https://localhost:8080/"
        },
        "id": "qYSQZc364fvm",
        "outputId": "1abcb3fa-6929-4538-fde2-083c84d82a3a"
      },
      "execution_count": 20,
      "outputs": [
        {
          "output_type": "stream",
          "name": "stdout",
          "text": [
            "fval=0.0, x0=0.0, x1=0.0, e0,0=1.0, e0,1=1.0, e0,2=1.0, e1,0=0.0, e1,1=0.0, e1,2=0.0, cons1,0@int_slack@0=1.0, cons1,0@int_slack@1=1.0, cons1,0@int_slack@2=1.0, cons1,0@int_slack@3=1.0, cons1,0@int_slack@4=1.0, cons1,0@int_slack@5=1.0, cons1,0@int_slack@6=1.0, cons1,0@int_slack@7=1.0, cons1,0@int_slack@8=1.0, cons1,0@int_slack@9=1.0, cons1,0@int_slack@10=1.0, cons1,1@int_slack@0=1.0, cons1,1@int_slack@1=1.0, cons1,1@int_slack@2=1.0, cons1,1@int_slack@3=1.0, cons1,1@int_slack@4=1.0, cons1,1@int_slack@5=1.0, cons1,1@int_slack@6=1.0, cons1,1@int_slack@7=1.0, cons1,1@int_slack@8=1.0, cons1,1@int_slack@9=1.0, cons1,1@int_slack@10=1.0, status=SUCCESS\n"
          ]
        }
      ]
    },
    {
      "cell_type": "code",
      "source": [
        "from qiskit import Aer\n",
        "backend = Aer.get_backend(\"qasm_simulator\")"
      ],
      "metadata": {
        "id": "RTqTcBr14igh"
      },
      "execution_count": 21,
      "outputs": []
    },
    {
      "cell_type": "code",
      "source": [
        "qaoa = MinimumEigenOptimizer(QAOA(reps=1, quantum_instance=backend))\n",
        "result_qaoa = qaoa.solve(qubo)\n",
        "print(result_qaoa)"
      ],
      "metadata": {
        "colab": {
          "base_uri": "https://localhost:8080/"
        },
        "id": "Jb1ztrKWCoLi",
        "outputId": "0f6ee9d5-a5e6-4bfe-f720-bd9dcc25eb45"
      },
      "execution_count": null,
      "outputs": [
        {
          "output_type": "stream",
          "name": "stderr",
          "text": [
            "<ipython-input-22-1ea5cd56ac63>:1: DeprecationWarning: The class ``qiskit.algorithms.minimum_eigen_solvers.qaoa.QAOA`` is deprecated as of qiskit-terra 0.24.0. It will be removed no earlier than 3 months after the release date. Instead, use the class ``qiskit.algorithms.minimum_eigensolvers.QAOA``. See https://qisk.it/algo_migration for a migration guide.\n",
            "  qaoa = MinimumEigenOptimizer(QAOA(reps=1, quantum_instance=backend))\n"
          ]
        }
      ]
    },
    {
      "cell_type": "code",
      "source": [
        "# Calculate and print the space utilization\n",
        "space_utilization = result_qaoa"
      ],
      "metadata": {
        "id": "btQ5eccY4wZc",
        "colab": {
          "base_uri": "https://localhost:8080/",
          "height": 211
        },
        "outputId": "72095ef2-a97c-4bbd-e9ee-afb7c35f0283"
      },
      "execution_count": 10,
      "outputs": [
        {
          "output_type": "error",
          "ename": "NameError",
          "evalue": "ignored",
          "traceback": [
            "\u001b[0;31m---------------------------------------------------------------------------\u001b[0m",
            "\u001b[0;31mNameError\u001b[0m                                 Traceback (most recent call last)",
            "\u001b[0;32m<ipython-input-10-e954f9f323c1>\u001b[0m in \u001b[0;36m<cell line: 2>\u001b[0;34m()\u001b[0m\n\u001b[1;32m      1\u001b[0m \u001b[0;31m# Calculate and print the space utilization\u001b[0m\u001b[0;34m\u001b[0m\u001b[0;34m\u001b[0m\u001b[0m\n\u001b[0;32m----> 2\u001b[0;31m \u001b[0mspace_utilization\u001b[0m \u001b[0;34m=\u001b[0m \u001b[0mresult\u001b[0m\u001b[0;34m.\u001b[0m\u001b[0mfval\u001b[0m\u001b[0;34m\u001b[0m\u001b[0;34m\u001b[0m\u001b[0m\n\u001b[0m\u001b[1;32m      3\u001b[0m \u001b[0mprint\u001b[0m\u001b[0;34m(\u001b[0m\u001b[0;34mf\"Space Utilization (Sn): {space_utilization}\"\u001b[0m\u001b[0;34m)\u001b[0m\u001b[0;34m\u001b[0m\u001b[0;34m\u001b[0m\u001b[0m\n",
            "\u001b[0;31mNameError\u001b[0m: name 'result' is not defined"
          ]
        }
      ]
    },
    {
      "cell_type": "code",
      "source": [],
      "metadata": {
        "id": "D3f8T8PpDx5P"
      },
      "execution_count": null,
      "outputs": []
    }
  ],
  "metadata": {
    "colab": {
      "provenance": []
    },
    "kernelspec": {
      "display_name": "Python 3",
      "name": "python3"
    }
  },
  "nbformat": 4,
  "nbformat_minor": 0
}